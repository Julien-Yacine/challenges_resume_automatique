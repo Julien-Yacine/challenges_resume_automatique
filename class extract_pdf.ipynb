{
 "cells": [
  {
   "cell_type": "code",
   "execution_count": 35,
   "metadata": {},
   "outputs": [
    {
     "name": "stderr",
     "output_type": "stream",
     "text": [
      "[nltk_data] Downloading package wordnet to /home/thomas/nltk_data...\n",
      "[nltk_data]   Package wordnet is already up-to-date!\n",
      "[nltk_data] Downloading package stopwords to /home/thomas/nltk_data...\n",
      "[nltk_data]   Package stopwords is already up-to-date!\n",
      "[nltk_data] Downloading package punkt to /home/thomas/nltk_data...\n",
      "[nltk_data]   Package punkt is already up-to-date!\n",
      "[nltk_data] Downloading package averaged_perceptron_tagger to\n",
      "[nltk_data]     /home/thomas/nltk_data...\n",
      "[nltk_data]   Package averaged_perceptron_tagger is already up-to-\n",
      "[nltk_data]       date!\n"
     ]
    }
   ],
   "source": [
    "# librairie globales\n",
    "import io\n",
    "from io import StringIO\n",
    "from os import listdir\n",
    "from os.path import isfile, join\n",
    "from pathlib import Path\n",
    "import pandas\n",
    "\n",
    "# pour convert_pdf_to_txt\n",
    "from pdfminer.pdfinterp import PDFResourceManager, PDFPageInterpreter\n",
    "from pdfminer.converter import HTMLConverter,TextConverter,XMLConverter\n",
    "from pdfminer.layout import LAParams\n",
    "from pdfminer.pdfpage import PDFPage\n",
    "\n",
    "# pour prepare_sentence\n",
    "import nltk, os, subprocess, code, glob, re, traceback, sys, inspect\n",
    "nltk.download('wordnet')\n",
    "nltk.download('stopwords')\n",
    "nltk.download('punkt')\n",
    "nltk.download('averaged_perceptron_tagger')\n",
    "from nltk.corpus import stopwords\n",
    "from nltk.tokenize import sent_tokenize, word_tokenize\n",
    "\n",
    "# pour extract specific text\n",
    "from io import BytesIO\n",
    "import re"
   ]
  },
  {
   "cell_type": "code",
   "execution_count": 85,
   "metadata": {},
   "outputs": [],
   "source": [
    "class extract_pdf:\n",
    "    \n",
    "    def __init__(self, path, langage=\"french\"):\n",
    "        self.path = path\n",
    "        self.allfiles = [f for f in listdir(self.path) if isfile(join(self.path, f))]\n",
    "        print(self.allfiles)\n",
    "        self.langage = langage\n",
    "        \n",
    "        \n",
    "    def convert_pdf_to_txt(self):\n",
    "\n",
    "        pdf_folder = Path(self.path)\n",
    "        # print(self.allfiles)\n",
    "        list_txt = list()\n",
    "        for files in self.allfiles:\n",
    "            rsrcmgr = PDFResourceManager()\n",
    "            retstr = BytesIO()\n",
    "            codec = 'utf-8'\n",
    "            laparams = LAParams()\n",
    "            device = HTMLConverter(rsrcmgr, retstr, codec=codec, laparams=laparams)\n",
    "            print(files)\n",
    "            fp = open(pdf_folder / files, 'rb')\n",
    "            interpreter = PDFPageInterpreter(rsrcmgr, device)\n",
    "            password = \"\"\n",
    "            maxpages = 0\n",
    "            caching = True\n",
    "            pagenos = set()\n",
    "            #text = files\n",
    "            for page in PDFPage.get_pages(fp, pagenos, maxpages=maxpages, password=password, caching=caching,\n",
    "                                          check_extractable=True):\n",
    "                interpreter.process_page(page)\n",
    "            \n",
    "            text = retstr.getvalue()\n",
    "            text =text.decode('utf-8')\n",
    "            print(\"Longueur du doc : \")\n",
    "            print(len(text))\n",
    "            print(\"Début du doc : \")\n",
    "            print(text[1:100])\n",
    "            list_txt.append(text)\n",
    "            print(len(list_txt))\n",
    "            fp.close()\n",
    "            device.close()\n",
    "            retstr.close()\n",
    "\n",
    "        return list_txt\n",
    "      \n",
    "        \n",
    "    \n",
    "    def prepare_sentence(self, list_txt):\n",
    "        \n",
    "        stop_words = set(stopwords.words(self.langage))\n",
    "        clean_text_list = list()\n",
    "        #Retrait de la ponctuation\n",
    "        #text = re.sub('[^a-zA-Z]', ' ', sentence)\n",
    "        for sentence in list_txt:\n",
    "            print(\"Longueur du doc de base : \")\n",
    "            print(len(sentence))\n",
    "            print(\"Début du doc de base : \")\n",
    "            print(sentence[1:100])\n",
    "            #Conversion en minuscule\n",
    "            text = sentence.lower()\n",
    "\n",
    "            #Retrait des tags\n",
    "            text=re.sub(\"&lt;/?.*?&gt;\",\" &lt;&gt; \",text)\n",
    "\n",
    "            #Retrait des numéros et caractères spéciaux\n",
    "            text=re.sub(\"(\\\\d|\\\\W)+\",\" \",text)\n",
    "\n",
    "            #Conversion en liste\n",
    "            text = text.split()\n",
    "\n",
    "\n",
    "            text = [word for word in text if not word in  \n",
    "                    stop_words] \n",
    "            text = \" \".join(text)\n",
    "            print(\"Longueur du doc : \")\n",
    "            print(len(text))\n",
    "            print(\"Début du doc : \")\n",
    "            print(text[1:100])\n",
    "            clean_text_list.append(text)\n",
    "        return clean_text_list\n",
    "    \n",
    "    def export_text(self, list_txt):\n",
    "        \n",
    "        for sentence in list_txt:\n",
    "            text_file = open(\"./sample.txt\", \"w\")\n",
    "            n = text_file.write(sentence)\n",
    "            text_file.close()\n",
    "    \n",
    "    def extract_specific_text(self, list_txt, type_of_text ):\n",
    "        \n",
    "        if type_of_text == 'title':\n",
    "            regex = r'HelveticaNeueLTStd-Md\\'; font-size:41px\">(.*?)\\n<br></span></div>'\n",
    "        if type_of_text == 'paragraph':\n",
    "            regex = r'DINOT-Regular\\'; font-size:11px\">(.*?)</span><span style=\"font-family'\n",
    "        list_specific_t = list()\n",
    "        for sentence in list_txt:\n",
    "            elements_to_grep = re.findall( regex, sentence,re.DOTALL)\n",
    "            cleanr = re.compile('<.*?>|\\n')\n",
    "            for text_to_clean in elements_to_grep:\n",
    "                clean_text = re.sub(cleanr, '', text_to_clean)\n",
    "                list_specific_t.append(clean_text)\n",
    "            #list_specific_t.append(elements_to_grep)\n",
    "            return list_specific_t"
   ]
  },
  {
   "cell_type": "code",
   "execution_count": 86,
   "metadata": {},
   "outputs": [
    {
     "name": "stdout",
     "output_type": "stream",
     "text": [
      "['20190927_PAR.pdf', '20190930_PAR.pdf']\n",
      "20190927_PAR.pdf\n",
      "Longueur du doc : \n",
      "1345542\n",
      "Début du doc : \n",
      "html><head>\n",
      "<meta http-equiv=\"Content-Type\" content=\"text/html; charset=utf-8\">\n",
      "</head><body>\n",
      "<span\n",
      "1\n",
      "20190930_PAR.pdf\n",
      "Longueur du doc : \n",
      "862894\n",
      "Début du doc : \n",
      "html><head>\n",
      "<meta http-equiv=\"Content-Type\" content=\"text/html; charset=utf-8\">\n",
      "</head><body>\n",
      "<span\n",
      "2\n"
     ]
    }
   ],
   "source": [
    "extract20min = extract_pdf('/home/thomas/Documents/mediaData/echantillons_pdf/')\n",
    "text_html = extract20min.convert_pdf_to_txt()\n",
    "title20min = extract20min.extract_specific_text(text_html,'title')\n",
    "paragraph20min = extract20min.extract_specific_text(text_html,'paragraph')\n"
   ]
  },
  {
   "cell_type": "code",
   "execution_count": 99,
   "metadata": {},
   "outputs": [
    {
     "data": {
      "text/plain": [
       "['La nouvelle a cueilli les élus, jeudi ',\n",
       " 'matin, en pleine conférence de presse en amont du Conseil de Paris. Jacques Chirac, acteur omniprésent de quatre décennies de la vie politique française et internationale, est mort à son domi-cile parisien à l’âge de 86 ans. L’Hôtel de Ville, où le premier maire de la ca-pitale a pris ses quartiers en 1977, se met soudain en branle. Entre larmes, souvenirs et moments de battement. Les élus de la droite parisienne se suc-cèdent au micro : en tête, Marie-Claire Carrère-Gée, fraîchement élue prési-dente du groupe LRI (Les Républicains et Indépendants). Cette ancienne se-crétaire générale adjointe de l’Elysée sous Chirac et conseillère quand il était maire rend spontanément hommage à cette « ﬁgure paternelle (…), c’est à Paris que tout a commencé ». « Paris pleure son maire », annonce le groupe l’apogée de la célèbre motocrotte et la propreté de la ville en thème de cam-pagne. C’est aussi de nombreux scan-dales politico-ﬁnanciers : emplois ﬁc-tifs, faux électeurs, affaire des HLM. Pour Léa Filoche, coprésidente du groupe Génération-s, Chirac, le chef d’Etat, est même « à l’origine de son engagement militant et politique » avec l’expulsion des sans-papiers de l’église Saint-Ambroise, en 1996.La tour Eiffel éteinte',\n",
       " 'Dans le bureau historique des maires, un portrait de Jacques Chirac, en noir et blanc. Les drapeaux sont en berne. « Paris est en deuil », déclare Anne Hidalgo. « Pour nous les Parisiennes et les Parisiens, il sera à jamais notre maire, aimant passionnément sa ville et ses habitants », a-t-elle ajouté sur Twitter. En hommage, les drapeaux des équipements municipaux ont été mis en berne et la tour Eiffel, éteinte jeudi soir. Des registres seront ou-verts à l’Hôtel de Ville et dans toutes les mairies d’arrondissement « pour permettre aux Parisiennes et aux Parisiens de témoigner leur affec-tion », a annoncé Anne Hidalgo. ']"
      ]
     },
     "execution_count": 99,
     "metadata": {},
     "output_type": "execute_result"
    }
   ],
   "source": [
    "paragraph20min[0:3]"
   ]
  }
 ],
 "metadata": {
  "kernelspec": {
   "display_name": "Python (conda-env)",
   "language": "python",
   "name": "conda-env"
  },
  "language_info": {
   "codemirror_mode": {
    "name": "ipython",
    "version": 3
   },
   "file_extension": ".py",
   "mimetype": "text/x-python",
   "name": "python",
   "nbconvert_exporter": "python",
   "pygments_lexer": "ipython3",
   "version": "3.7.5"
  }
 },
 "nbformat": 4,
 "nbformat_minor": 2
}
